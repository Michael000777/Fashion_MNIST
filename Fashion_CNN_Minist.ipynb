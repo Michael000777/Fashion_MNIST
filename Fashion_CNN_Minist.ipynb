{
  "nbformat": 4,
  "nbformat_minor": 0,
  "metadata": {
    "colab": {
      "provenance": [],
      "gpuType": "T4"
    },
    "kernelspec": {
      "name": "python3",
      "display_name": "Python 3"
    },
    "language_info": {
      "name": "python"
    },
    "accelerator": "GPU"
  },
  "cells": [
    {
      "cell_type": "code",
      "execution_count": 1,
      "metadata": {
        "id": "iuTJwCE7CUQ0"
      },
      "outputs": [],
      "source": [
        "import torch\n",
        "import torchvision\n",
        "import torchvision.transforms as transforms"
      ]
    },
    {
      "cell_type": "code",
      "source": [
        "torch.cuda.is_available()"
      ],
      "metadata": {
        "colab": {
          "base_uri": "https://localhost:8080/"
        },
        "id": "5ZL_yOIwCaMq",
        "outputId": "c71731c2-79dd-4be6-d5bd-d246adecd41d"
      },
      "execution_count": 2,
      "outputs": [
        {
          "output_type": "execute_result",
          "data": {
            "text/plain": [
              "True"
            ]
          },
          "metadata": {},
          "execution_count": 2
        }
      ]
    },
    {
      "cell_type": "code",
      "source": [
        "Device = 'cuda:0' if torch.cuda.is_available() else 'cpu'\n",
        "Device"
      ],
      "metadata": {
        "colab": {
          "base_uri": "https://localhost:8080/",
          "height": 35
        },
        "id": "QtiZSHBGCaT7",
        "outputId": "37a4a70d-6318-4c5c-cc5e-2dfb46646818"
      },
      "execution_count": 3,
      "outputs": [
        {
          "output_type": "execute_result",
          "data": {
            "text/plain": [
              "'cuda:0'"
            ],
            "application/vnd.google.colaboratory.intrinsic+json": {
              "type": "string"
            }
          },
          "metadata": {},
          "execution_count": 3
        }
      ]
    },
    {
      "cell_type": "code",
      "source": [
        "transform = transforms.ToTensor()\n",
        "bactch_size = 8\n",
        "trainset = torchvision.datasets.FashionMNIST(root='./data', train=True,\n",
        "                                             download=True, transform=transform)\n",
        "\n",
        "testset = torchvision.datasets.FashionMNIST(root='./data', train=False,\n",
        "                                            download=True, transform=transform)\n",
        "\n",
        "classes = ('T-shirt/top', 'Trouser/pants', 'Pullover shirt', 'Dress', 'Coat', 'Sandal',\n",
        "           'Shirt', 'Sneaker', 'Bag', 'Ankle boot')\n"
      ],
      "metadata": {
        "id": "tQytw6nLCaXA"
      },
      "execution_count": 4,
      "outputs": []
    },
    {
      "cell_type": "code",
      "source": [
        "train_iter = iter(trainset)\n",
        "image, label = next(train_iter)\n",
        "image.shape, label"
      ],
      "metadata": {
        "colab": {
          "base_uri": "https://localhost:8080/"
        },
        "id": "KKe5QWbHFR2F",
        "outputId": "fd0febba-b403-4e34-9773-cf587acb3993"
      },
      "execution_count": 28,
      "outputs": [
        {
          "output_type": "execute_result",
          "data": {
            "text/plain": [
              "(torch.Size([1, 28, 28]), 9)"
            ]
          },
          "metadata": {},
          "execution_count": 28
        }
      ]
    },
    {
      "cell_type": "code",
      "source": [
        "torch.min(image).item(), torch.max(image).item()"
      ],
      "metadata": {
        "colab": {
          "base_uri": "https://localhost:8080/"
        },
        "id": "SJxCTriIFS8o",
        "outputId": "b539b450-0f22-4298-a181-eee679f6562a"
      },
      "execution_count": 29,
      "outputs": [
        {
          "output_type": "execute_result",
          "data": {
            "text/plain": [
              "(0.0, 1.0)"
            ]
          },
          "metadata": {},
          "execution_count": 29
        }
      ]
    },
    {
      "cell_type": "code",
      "source": [
        "import matplotlib.pyplot as plt\n",
        "import numpy as np\n",
        "\n",
        "np_img = image.numpy()\n",
        "print(classes[label])\n",
        "plt.imshow(np_img.reshape((28, 28, 1)))"
      ],
      "metadata": {
        "colab": {
          "base_uri": "https://localhost:8080/",
          "height": 464
        },
        "id": "Iars6rGLCaZX",
        "outputId": "fd784fb8-3e9d-46a0-92bc-8c54b46713e6"
      },
      "execution_count": 30,
      "outputs": [
        {
          "output_type": "stream",
          "name": "stdout",
          "text": [
            "Ankle boot\n"
          ]
        },
        {
          "output_type": "execute_result",
          "data": {
            "text/plain": [
              "<matplotlib.image.AxesImage at 0x7c780af68790>"
            ]
          },
          "metadata": {},
          "execution_count": 30
        },
        {
          "output_type": "display_data",
          "data": {
            "text/plain": [
              "<Figure size 640x480 with 1 Axes>"
            ],
            "image/png": "[encoded data removed]"
          },
          "metadata": {}
        }
      ]
    },
    {
      "cell_type": "code",
      "source": [
        "len(trainset), len(testset)"
      ],
      "metadata": {
        "colab": {
          "base_uri": "https://localhost:8080/"
        },
        "id": "4KwADeylk28U",
        "outputId": "b9cbf06b-4109-47ab-9c5c-13579053d4f0"
      },
      "execution_count": 8,
      "outputs": [
        {
          "output_type": "execute_result",
          "data": {
            "text/plain": [
              "(60000, 10000)"
            ]
          },
          "metadata": {},
          "execution_count": 8
        }
      ]
    },
    {
      "cell_type": "code",
      "source": [
        "trainset, valset = torch.utils.data.random_split(trainset, [50000, 10000])\n",
        "len(trainset), len(valset), len(testset)"
      ],
      "metadata": {
        "colab": {
          "base_uri": "https://localhost:8080/"
        },
        "id": "2eU21sesk3D5",
        "outputId": "4e1ce850-354d-4296-b081-a66dff858d0f"
      },
      "execution_count": 9,
      "outputs": [
        {
          "output_type": "execute_result",
          "data": {
            "text/plain": [
              "(50000, 10000, 10000)"
            ]
          },
          "metadata": {},
          "execution_count": 9
        }
      ]
    },
    {
      "cell_type": "code",
      "source": [
        "print(f'number of batches in the training set: {int(50000/bactch_size)}')\n"
      ],
      "metadata": {
        "colab": {
          "base_uri": "https://localhost:8080/"
        },
        "id": "stfWDAM7k3Ms",
        "outputId": "536397e8-509f-4e7f-dd31-c64fc19b4c4a"
      },
      "execution_count": 10,
      "outputs": [
        {
          "output_type": "stream",
          "name": "stdout",
          "text": [
            "number of batches in the training set: 6250\n"
          ]
        }
      ]
    },
    {
      "cell_type": "code",
      "source": [
        "type(trainset)"
      ],
      "metadata": {
        "colab": {
          "base_uri": "https://localhost:8080/"
        },
        "id": "hrlEuXEnk3Pk",
        "outputId": "4012c24f-e877-4eb3-e651-c0f6cd62694f"
      },
      "execution_count": 11,
      "outputs": [
        {
          "output_type": "execute_result",
          "data": {
            "text/plain": [
              "torch.utils.data.dataset.Subset"
            ]
          },
          "metadata": {},
          "execution_count": 11
        }
      ]
    },
    {
      "cell_type": "code",
      "source": [
        "trainloader = torch.utils.data.DataLoader(trainset, batch_size=bactch_size,\n",
        "                                          shuffle=True, num_workers=2)\n",
        "\n",
        "valloader = torch.utils.data.DataLoader(valset, batch_size=bactch_size,\n",
        "                                          shuffle=True, num_workers=2)\n",
        "\n",
        "testloader = torch.utils.data.DataLoader(testset, batch_size=bactch_size,\n",
        "                                          shuffle=True, num_workers=2)"
      ],
      "metadata": {
        "id": "MEf8ByZ9k3SL"
      },
      "execution_count": 12,
      "outputs": []
    },
    {
      "cell_type": "code",
      "source": [
        "import torch.nn as nn\n",
        "import torch.nn.functional as F\n",
        "\n",
        "class fash_NeuralNet(nn.Module):\n",
        "  def __init__(self):\n",
        "    super().__init__()\n",
        "\n",
        "    self.conv1 = nn.Conv2d(in_channels=1, out_channels=256, kernel_size=3)\n",
        "    self.pool1 = nn.MaxPool2d(2,2)\n",
        "\n",
        "    self.conv2 = nn.Conv2d(in_channels=256, out_channels=512, kernel_size=3)\n",
        "    self.pool2 = nn.MaxPool2d(2,2)\n",
        "\n",
        "    self.conv3 = nn.Conv2d(in_channels=512, out_channels=1024, kernel_size=2)\n",
        "    self.pool3 = nn.MaxPool2d(2,2)\n",
        "\n",
        "    self.flatten = nn.Flatten()\n",
        "\n",
        "    self.fc1 = nn.Linear(in_features=4096, out_features=1024)\n",
        "    self.drop1 = nn.Dropout(p=0.3)\n",
        "\n",
        "    self.fc2 = nn.Linear(in_features=1024, out_features=1024)\n",
        "    self.drop2 = nn.Dropout(p=0.3)\n",
        "\n",
        "    self.out = nn.Linear(in_features=1024, out_features=10)\n",
        "\n",
        "\n",
        "  def forward(self, x):\n",
        "    x = F.relu(self.conv1(x))\n",
        "    x = self.pool1(x)\n",
        "\n",
        "    x = F.relu(self.conv2(x))\n",
        "    x = self.pool2(x)\n",
        "\n",
        "    x = F.relu(self.conv3(x))\n",
        "    x = self.pool3(x)\n",
        "\n",
        "    x = self.flatten(x)\n",
        "    x = F.relu(self.fc1(x))\n",
        "    x = self.drop1(x)\n",
        "\n",
        "    x = F.relu(self.fc2(x))\n",
        "    x = self.drop2(x)\n",
        "\n",
        "    x = self.out(x)\n",
        "\n",
        "\n",
        "    return x\n",
        "\n"
      ],
      "metadata": {
        "id": "SoT6bd0iCab9"
      },
      "execution_count": 13,
      "outputs": []
    },
    {
      "cell_type": "code",
      "source": [
        "net = fash_NeuralNet()\n",
        "net.to(Device)"
      ],
      "metadata": {
        "colab": {
          "base_uri": "https://localhost:8080/"
        },
        "id": "RNk3YVI_pPNv",
        "outputId": "7f9230dd-98d6-4d6b-fd62-802e262851df"
      },
      "execution_count": 14,
      "outputs": [
        {
          "output_type": "execute_result",
          "data": {
            "text/plain": [
              "fash_NeuralNet(\n",
              "  (conv1): Conv2d(1, 256, kernel_size=(3, 3), stride=(1, 1))\n",
              "  (pool1): MaxPool2d(kernel_size=2, stride=2, padding=0, dilation=1, ceil_mode=False)\n",
              "  (conv2): Conv2d(256, 512, kernel_size=(3, 3), stride=(1, 1))\n",
              "  (pool2): MaxPool2d(kernel_size=2, stride=2, padding=0, dilation=1, ceil_mode=False)\n",
              "  (conv3): Conv2d(512, 1024, kernel_size=(2, 2), stride=(1, 1))\n",
              "  (pool3): MaxPool2d(kernel_size=2, stride=2, padding=0, dilation=1, ceil_mode=False)\n",
              "  (flatten): Flatten(start_dim=1, end_dim=-1)\n",
              "  (fc1): Linear(in_features=4096, out_features=1024, bias=True)\n",
              "  (drop1): Dropout(p=0.3, inplace=False)\n",
              "  (fc2): Linear(in_features=1024, out_features=1024, bias=True)\n",
              "  (drop2): Dropout(p=0.3, inplace=False)\n",
              "  (out): Linear(in_features=1024, out_features=10, bias=True)\n",
              ")"
            ]
          },
          "metadata": {},
          "execution_count": 14
        }
      ]
    },
    {
      "cell_type": "code",
      "source": [
        "for i, data in enumerate(trainloader):\n",
        "  inputs, labels = data[0].to(Device), data[1].to(Device)\n",
        "  print(f'input shape: {inputs.shape}')\n",
        "  print(f'after network shape: {net(inputs).shape}')\n",
        "  break"
      ],
      "metadata": {
        "colab": {
          "base_uri": "https://localhost:8080/"
        },
        "id": "4Nc4h3A6pPQV",
        "outputId": "57a6d036-bae6-459d-a1ce-c827c1d6a276"
      },
      "execution_count": 15,
      "outputs": [
        {
          "output_type": "stream",
          "name": "stdout",
          "text": [
            "input shape: torch.Size([8, 1, 28, 28])\n",
            "after network shape: torch.Size([8, 10])\n"
          ]
        }
      ]
    },
    {
      "cell_type": "markdown",
      "source": [
        "**Training our CNN Classifier**"
      ],
      "metadata": {
        "id": "t71caagM2fnz"
      }
    },
    {
      "cell_type": "code",
      "source": [
        "import torch.optim as optim\n",
        "\n",
        "criterion = nn.CrossEntropyLoss()\n",
        "optimizer = optim.Adam(net.parameters(), lr=0.0001)\n",
        "\n",
        "epochs = 10"
      ],
      "metadata": {
        "id": "tmjiDBfgr-Vc"
      },
      "execution_count": 16,
      "outputs": []
    },
    {
      "cell_type": "code",
      "source": [
        "def train_one_epoch():\n",
        "  net.train(True)\n",
        "\n",
        "  running_loss = 0.0\n",
        "  running_accuracy = 0.0\n",
        "\n",
        "  for batch_idx, data in enumerate(trainloader):\n",
        "    inputs, labels = data[0].to(Device), data[1].to(Device)\n",
        "\n",
        "    optimizer.zero_grad()\n",
        "\n",
        "    outputs = net(inputs) # shape: [batch_size, 10]\n",
        "    correct = torch.sum(labels == torch.argmax(outputs, dim=1)).item()\n",
        "    running_accuracy += correct/bactch_size\n",
        "\n",
        "    loss = criterion(outputs, labels)\n",
        "    running_loss += loss.item()\n",
        "    loss.backward()\n",
        "    optimizer.step()\n",
        "\n",
        "    if batch_idx % 500 == 499: #printing every 500 batch\n",
        "      avg_loss_across_batches = running_loss / 500\n",
        "      avg_acc_across_batches = (running_accuracy/500) * 100\n",
        "      print('Batch {0}, Loss: {1:.3f}, Accuracy: {2:.1f}%'.format(batch_idx,\n",
        "                                                                  avg_loss_across_batches,\n",
        "                                                                  avg_acc_across_batches))\n",
        "      running_loss = 0.0\n",
        "      running_accuracy = 0.0\n",
        "\n",
        "print()\n",
        "\n",
        "\n"
      ],
      "metadata": {
        "colab": {
          "base_uri": "https://localhost:8080/"
        },
        "id": "rNusEAVz4Yl9",
        "outputId": "825e18a3-a295-4193-f369-d1d555a028a2"
      },
      "execution_count": 17,
      "outputs": [
        {
          "output_type": "stream",
          "name": "stdout",
          "text": [
            "\n"
          ]
        }
      ]
    },
    {
      "cell_type": "code",
      "source": [
        "def validate_one_epoch():\n",
        "    net.train(False)\n",
        "    running_loss = 0.0\n",
        "    running_accuracy = 0.0\n",
        "\n",
        "    for i, data in enumerate(valloader):\n",
        "        inputs, labels = data[0].to(Device), data[1].to(Device)\n",
        "\n",
        "        with torch.no_grad():\n",
        "            outputs = net(inputs) # shape: [batch_size, 10]\n",
        "            correct = torch.sum(labels == torch.argmax(outputs, dim=1)).item()\n",
        "            running_accuracy += correct / bactch_size\n",
        "            loss = criterion(outputs, labels) # One number, the average batch loss\n",
        "            running_loss += loss.item()\n",
        "\n",
        "    avg_loss_across_batches = running_loss / len(valloader)\n",
        "    avg_acc_across_batches = (running_accuracy / len(valloader)) * 100\n",
        "\n",
        "    print('Val Loss: {0:.3f}, Val Accuracy: {1:.1f}%'.format(avg_loss_across_batches,\n",
        "                                                            avg_acc_across_batches))\n",
        "    print('***************************************************')\n",
        "    print()"
      ],
      "metadata": {
        "id": "i6FIaGFu_rWH"
      },
      "execution_count": 18,
      "outputs": []
    },
    {
      "cell_type": "code",
      "source": [
        "for epoch_idx in range(epochs):\n",
        "  print(f'Epoch: {epoch_idx + 1}\\n')\n",
        "\n",
        "  train_one_epoch()\n",
        "\n",
        "  validate_one_epoch()\n",
        "\n",
        "print(\"Training Done!\")"
      ],
      "metadata": {
        "colab": {
          "base_uri": "https://localhost:8080/"
        },
        "id": "ZPELWC4vr-Xj",
        "outputId": "9658dd2a-f384-4362-e32d-11eb1fb6b9af"
      },
      "execution_count": 19,
      "outputs": [
        {
          "output_type": "stream",
          "name": "stdout",
          "text": [
            "Epoch: 1\n",
            "\n",
            "Batch 499, Loss: 1.180, Accuracy: 55.0%\n",
            "Batch 999, Loss: 0.725, Accuracy: 72.4%\n",
            "Batch 1499, Loss: 0.614, Accuracy: 76.7%\n",
            "Batch 1999, Loss: 0.607, Accuracy: 77.8%\n",
            "Batch 2499, Loss: 0.560, Accuracy: 78.9%\n",
            "Batch 2999, Loss: 0.507, Accuracy: 80.7%\n",
            "Batch 3499, Loss: 0.505, Accuracy: 81.4%\n",
            "Batch 3999, Loss: 0.459, Accuracy: 83.0%\n",
            "Batch 4499, Loss: 0.473, Accuracy: 82.5%\n",
            "Batch 4999, Loss: 0.445, Accuracy: 83.6%\n",
            "Batch 5499, Loss: 0.429, Accuracy: 84.2%\n",
            "Batch 5999, Loss: 0.405, Accuracy: 85.6%\n",
            "Val Loss: 0.394, Val Accuracy: 85.2%\n",
            "***************************************************\n",
            "\n",
            "Epoch: 2\n",
            "\n",
            "Batch 499, Loss: 0.403, Accuracy: 85.0%\n",
            "Batch 999, Loss: 0.377, Accuracy: 85.7%\n",
            "Batch 1499, Loss: 0.381, Accuracy: 86.0%\n",
            "Batch 1999, Loss: 0.386, Accuracy: 86.0%\n",
            "Batch 2499, Loss: 0.343, Accuracy: 87.2%\n",
            "Batch 2999, Loss: 0.322, Accuracy: 88.0%\n",
            "Batch 3499, Loss: 0.337, Accuracy: 88.1%\n",
            "Batch 3999, Loss: 0.334, Accuracy: 87.8%\n",
            "Batch 4499, Loss: 0.328, Accuracy: 88.2%\n",
            "Batch 4999, Loss: 0.362, Accuracy: 86.8%\n",
            "Batch 5499, Loss: 0.318, Accuracy: 88.4%\n",
            "Batch 5999, Loss: 0.301, Accuracy: 89.2%\n",
            "Val Loss: 0.326, Val Accuracy: 88.1%\n",
            "***************************************************\n",
            "\n",
            "Epoch: 3\n",
            "\n",
            "Batch 499, Loss: 0.285, Accuracy: 89.8%\n",
            "Batch 999, Loss: 0.327, Accuracy: 88.1%\n",
            "Batch 1499, Loss: 0.284, Accuracy: 89.4%\n",
            "Batch 1999, Loss: 0.280, Accuracy: 89.8%\n",
            "Batch 2499, Loss: 0.269, Accuracy: 90.1%\n",
            "Batch 2999, Loss: 0.307, Accuracy: 88.7%\n",
            "Batch 3499, Loss: 0.287, Accuracy: 90.1%\n",
            "Batch 3999, Loss: 0.285, Accuracy: 89.6%\n",
            "Batch 4499, Loss: 0.269, Accuracy: 90.3%\n",
            "Batch 4999, Loss: 0.288, Accuracy: 89.3%\n",
            "Batch 5499, Loss: 0.263, Accuracy: 90.5%\n",
            "Batch 5999, Loss: 0.272, Accuracy: 90.2%\n",
            "Val Loss: 0.294, Val Accuracy: 89.2%\n",
            "***************************************************\n",
            "\n",
            "Epoch: 4\n",
            "\n",
            "Batch 499, Loss: 0.242, Accuracy: 91.1%\n",
            "Batch 999, Loss: 0.247, Accuracy: 90.7%\n",
            "Batch 1499, Loss: 0.268, Accuracy: 89.5%\n",
            "Batch 1999, Loss: 0.237, Accuracy: 91.2%\n",
            "Batch 2499, Loss: 0.253, Accuracy: 90.7%\n",
            "Batch 2999, Loss: 0.249, Accuracy: 91.0%\n",
            "Batch 3499, Loss: 0.245, Accuracy: 91.0%\n",
            "Batch 3999, Loss: 0.239, Accuracy: 91.5%\n",
            "Batch 4499, Loss: 0.239, Accuracy: 91.2%\n",
            "Batch 4999, Loss: 0.240, Accuracy: 91.3%\n",
            "Batch 5499, Loss: 0.255, Accuracy: 90.7%\n",
            "Batch 5999, Loss: 0.254, Accuracy: 91.0%\n",
            "Val Loss: 0.271, Val Accuracy: 90.2%\n",
            "***************************************************\n",
            "\n",
            "Epoch: 5\n",
            "\n",
            "Batch 499, Loss: 0.219, Accuracy: 92.2%\n",
            "Batch 999, Loss: 0.211, Accuracy: 92.4%\n",
            "Batch 1499, Loss: 0.212, Accuracy: 92.5%\n",
            "Batch 1999, Loss: 0.224, Accuracy: 91.7%\n",
            "Batch 2499, Loss: 0.216, Accuracy: 92.1%\n",
            "Batch 2999, Loss: 0.219, Accuracy: 92.0%\n",
            "Batch 3499, Loss: 0.221, Accuracy: 92.2%\n",
            "Batch 3999, Loss: 0.234, Accuracy: 91.3%\n",
            "Batch 4499, Loss: 0.205, Accuracy: 92.2%\n",
            "Batch 4999, Loss: 0.219, Accuracy: 91.6%\n",
            "Batch 5499, Loss: 0.222, Accuracy: 92.3%\n",
            "Batch 5999, Loss: 0.214, Accuracy: 92.0%\n",
            "Val Loss: 0.264, Val Accuracy: 90.5%\n",
            "***************************************************\n",
            "\n",
            "Epoch: 6\n",
            "\n",
            "Batch 499, Loss: 0.174, Accuracy: 93.5%\n",
            "Batch 999, Loss: 0.190, Accuracy: 92.8%\n",
            "Batch 1499, Loss: 0.207, Accuracy: 92.1%\n",
            "Batch 1999, Loss: 0.192, Accuracy: 92.8%\n",
            "Batch 2499, Loss: 0.193, Accuracy: 92.9%\n",
            "Batch 2999, Loss: 0.190, Accuracy: 93.2%\n",
            "Batch 3499, Loss: 0.198, Accuracy: 92.5%\n",
            "Batch 3999, Loss: 0.199, Accuracy: 93.0%\n",
            "Batch 4499, Loss: 0.181, Accuracy: 92.8%\n",
            "Batch 4999, Loss: 0.192, Accuracy: 92.9%\n",
            "Batch 5499, Loss: 0.176, Accuracy: 93.2%\n",
            "Batch 5999, Loss: 0.190, Accuracy: 93.0%\n",
            "Val Loss: 0.253, Val Accuracy: 91.3%\n",
            "***************************************************\n",
            "\n",
            "Epoch: 7\n",
            "\n",
            "Batch 499, Loss: 0.157, Accuracy: 94.3%\n",
            "Batch 999, Loss: 0.173, Accuracy: 93.6%\n",
            "Batch 1499, Loss: 0.160, Accuracy: 94.3%\n",
            "Batch 1999, Loss: 0.171, Accuracy: 93.4%\n",
            "Batch 2499, Loss: 0.154, Accuracy: 94.0%\n",
            "Batch 2999, Loss: 0.174, Accuracy: 93.9%\n",
            "Batch 3499, Loss: 0.160, Accuracy: 93.8%\n",
            "Batch 3999, Loss: 0.169, Accuracy: 93.7%\n",
            "Batch 4499, Loss: 0.171, Accuracy: 93.6%\n",
            "Batch 4999, Loss: 0.180, Accuracy: 93.3%\n",
            "Batch 5499, Loss: 0.160, Accuracy: 94.2%\n",
            "Batch 5999, Loss: 0.166, Accuracy: 94.1%\n",
            "Val Loss: 0.251, Val Accuracy: 91.7%\n",
            "***************************************************\n",
            "\n",
            "Epoch: 8\n",
            "\n",
            "Batch 499, Loss: 0.137, Accuracy: 94.8%\n",
            "Batch 999, Loss: 0.133, Accuracy: 94.7%\n",
            "Batch 1499, Loss: 0.160, Accuracy: 93.5%\n",
            "Batch 1999, Loss: 0.132, Accuracy: 94.7%\n",
            "Batch 2499, Loss: 0.154, Accuracy: 94.2%\n",
            "Batch 2999, Loss: 0.150, Accuracy: 94.5%\n",
            "Batch 3499, Loss: 0.151, Accuracy: 94.3%\n",
            "Batch 3999, Loss: 0.141, Accuracy: 94.8%\n",
            "Batch 4499, Loss: 0.141, Accuracy: 94.9%\n",
            "Batch 4999, Loss: 0.143, Accuracy: 94.8%\n",
            "Batch 5499, Loss: 0.161, Accuracy: 94.0%\n",
            "Batch 5999, Loss: 0.158, Accuracy: 94.2%\n",
            "Val Loss: 0.251, Val Accuracy: 91.5%\n",
            "***************************************************\n",
            "\n",
            "Epoch: 9\n",
            "\n",
            "Batch 499, Loss: 0.120, Accuracy: 95.3%\n",
            "Batch 999, Loss: 0.126, Accuracy: 95.2%\n",
            "Batch 1499, Loss: 0.113, Accuracy: 95.9%\n",
            "Batch 1999, Loss: 0.128, Accuracy: 95.0%\n",
            "Batch 2499, Loss: 0.132, Accuracy: 95.0%\n",
            "Batch 2999, Loss: 0.131, Accuracy: 95.1%\n",
            "Batch 3499, Loss: 0.136, Accuracy: 95.0%\n",
            "Batch 3999, Loss: 0.139, Accuracy: 94.6%\n",
            "Batch 4499, Loss: 0.133, Accuracy: 95.0%\n",
            "Batch 4999, Loss: 0.127, Accuracy: 95.2%\n",
            "Batch 5499, Loss: 0.121, Accuracy: 95.3%\n",
            "Batch 5999, Loss: 0.125, Accuracy: 95.4%\n",
            "Val Loss: 0.271, Val Accuracy: 91.1%\n",
            "***************************************************\n",
            "\n",
            "Epoch: 10\n",
            "\n",
            "Batch 499, Loss: 0.096, Accuracy: 96.6%\n",
            "Batch 999, Loss: 0.114, Accuracy: 95.7%\n",
            "Batch 1499, Loss: 0.106, Accuracy: 96.2%\n",
            "Batch 1999, Loss: 0.116, Accuracy: 95.6%\n",
            "Batch 2499, Loss: 0.107, Accuracy: 95.8%\n",
            "Batch 2999, Loss: 0.107, Accuracy: 96.1%\n",
            "Batch 3499, Loss: 0.106, Accuracy: 95.6%\n",
            "Batch 3999, Loss: 0.115, Accuracy: 95.7%\n",
            "Batch 4499, Loss: 0.114, Accuracy: 95.7%\n",
            "Batch 4999, Loss: 0.121, Accuracy: 95.8%\n",
            "Batch 5499, Loss: 0.122, Accuracy: 95.5%\n",
            "Batch 5999, Loss: 0.119, Accuracy: 95.2%\n",
            "Val Loss: 0.292, Val Accuracy: 91.1%\n",
            "***************************************************\n",
            "\n",
            "Training Done!\n"
          ]
        }
      ]
    },
    {
      "cell_type": "code",
      "source": [
        "def test_data(testloader):\n",
        "    net.eval()\n",
        "    running_loss = 0.0\n",
        "    running_accuracy = 0.0\n",
        "\n",
        "    for i, data in enumerate(testloader):\n",
        "        inputs, labels = data[0].to(Device), data[1].to(Device)\n",
        "\n",
        "        with torch.no_grad():\n",
        "            outputs = net(inputs) # shape: [batch_size, 10]\n",
        "            correct = torch.sum(labels == torch.argmax(outputs, dim=1)).item()\n",
        "            running_accuracy += correct / bactch_size\n",
        "            loss = criterion(outputs, labels) # One number, the average batch loss\n",
        "            running_loss += loss.item()\n",
        "\n",
        "    avg_loss_across_batches = running_loss / len(testloader)\n",
        "    avg_acc_across_batches = (running_accuracy / len(testloader)) * 100\n",
        "\n",
        "    print('Test Loss: {0:.3f}, Test Accuracy: {1:.1f}%'.format(avg_loss_across_batches,\n",
        "                                                            avg_acc_across_batches))\n",
        "    print('***************************************************')\n",
        "    print()"
      ],
      "metadata": {
        "id": "867Y7_wvr-aF"
      },
      "execution_count": 22,
      "outputs": []
    },
    {
      "cell_type": "code",
      "source": [
        "test_data(testloader)"
      ],
      "metadata": {
        "colab": {
          "base_uri": "https://localhost:8080/"
        },
        "id": "d4zZWqypr-cs",
        "outputId": "4389f72b-f4ba-4d77-b71f-7bc881441377"
      },
      "execution_count": 23,
      "outputs": [
        {
          "output_type": "stream",
          "name": "stdout",
          "text": [
            "Test Loss: 0.306, Test Accuracy: 91.1%\n",
            "***************************************************\n",
            "\n"
          ]
        }
      ]
    },
    {
      "cell_type": "code",
      "source": [],
      "metadata": {
        "id": "R083-y6NpPSt"
      },
      "execution_count": 19,
      "outputs": []
    },
    {
      "cell_type": "code",
      "source": [],
      "metadata": {
        "id": "DmTNh8g_pPVT"
      },
      "execution_count": 19,
      "outputs": []
    },
    {
      "cell_type": "code",
      "source": [],
      "metadata": {
        "id": "B3TyBoDZCae0"
      },
      "execution_count": 19,
      "outputs": []
    }
  ]
}